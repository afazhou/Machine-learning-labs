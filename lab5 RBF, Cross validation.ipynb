{
 "cells": [
  {
   "cell_type": "code",
   "execution_count": 122,
   "metadata": {},
   "outputs": [
    {
     "name": "stdout",
     "output_type": "stream",
     "text": [
      "442 10\n"
     ]
    },
    {
     "data": {
      "image/png": "[encoded data removed]",
      "text/plain": [
       "<Figure size 216x216 with 1 Axes>"
      ]
     },
     "metadata": {
      "needs_background": "light"
     },
     "output_type": "display_data"
    }
   ],
   "source": [
    "#1,the skeleton implementation of a Gaussian RBF model\n",
    "%matplotlib inline\n",
    "import numpy as np\n",
    "import matplotlib.pyplot as plt\n",
    "from sklearn import datasets\n",
    "from sklearn.linear_model import LinearRegression\n",
    "diabetes = datasets.load_diabetes()\n",
    "X = diabetes.data\n",
    "y = diabetes.target\n",
    "def gaussian(x, u, sigma):\n",
    "    return(np.exp(-0.5 * np.linalg.norm(x-u) / sigma))\n",
    "N, p = X.shape# Numbers of observations and dimensions\n",
    "print(N, p)\n",
    "# Space for design matrix\n",
    "#\n",
    "M = 20\n",
    "U = np.zeros((N,M))# Return N*M dimension matrix filled with zeros\n",
    "# Basis function locations at random\n",
    "#\n",
    "C = np.random.randn(M,p)# Return a M*p samples from the \"standard normal\" distribution\n",
    "# Basis function range as distance between two random data\n",
    "#\n",
    "x1 = X[np.floor(np.random.rand()*N).astype(int),:]\n",
    "x2 = X[np.floor(np.random.rand()*N).astype(int),:]\n",
    "sigma = np.linalg.norm(x1-x2)\n",
    "# Construct the design matrix\n",
    "#\n",
    "for i in range(N):\n",
    "    for j in range(M):\n",
    "        U[i,j] = gaussian(X[i,:], C[j,:], sigma)\n",
    "# Pseudo inverse solution for linear part\n",
    "#\n",
    "l = np.linalg.inv(U.T @ U) @ U.T @ y\n",
    "# Predicted values on training data\n",
    "#\n",
    "yh = U @ l\n",
    "fig, ax = plt.subplots(figsize=(3,3))\n",
    "ax.scatter(y, yh, c='m', s=3)\n",
    "ax.grid(True)\n",
    "ax.set_title(\"Training Set\", fontsize=14)\n",
    "ax.set_xlabel(\"True Target\", fontsize=12)\n",
    "ax.set_ylabel(\"Prediction\", fontsize=12)\n",
    "fig.savefig('fig1')"
   ]
  },
  {
   "cell_type": "code",
   "execution_count": 123,
   "metadata": {},
   "outputs": [
    {
     "name": "stdout",
     "output_type": "stream",
     "text": [
      "[-9.54490383e-18 -8.38946810e-17  2.41134413e-17  2.05968977e-17\n",
      " -5.92788764e-17 -5.45064245e-17  5.32505161e-17  2.71778578e-16\n",
      "  2.95138474e-18 -2.02515229e-17]\n",
      "[1. 1. 1. 1. 1. 1. 1. 1. 1. 1.]\n"
     ]
    }
   ],
   "source": [
    "#2.1, Normalize each features of the input data to have a mean of 0 nad sd of 1\n",
    "X_normed = (X - X.mean(axis=0)) / X.std(axis=0)\n",
    "print(X_normed.mean(axis=0))\n",
    "print(X_normed.std(axis=0))"
   ]
  },
  {
   "cell_type": "code",
   "execution_count": 124,
   "metadata": {},
   "outputs": [
    {
     "name": "stdout",
     "output_type": "stream",
     "text": [
      "0.1134\n",
      "4.8397\n"
     ]
    }
   ],
   "source": [
    "#2.2, Change the sigma to the average of several pairwise distances\n",
    "x3 = X_normed[np.floor(np.random.rand()*N).astype(int),:]\n",
    "x4 = X_normed[np.floor(np.random.rand()*N).astype(int),:]\n",
    "sigma1 = np.linalg.norm(x3-x4)\n",
    "\n",
    "x5 = X_normed[np.floor(np.random.rand()*N).astype(int),:]\n",
    "x6 = X_normed[np.floor(np.random.rand()*N).astype(int),:]\n",
    "sigma2 = np.linalg.norm(x5-x6)\n",
    "\n",
    "x7 = X_normed[np.floor(np.random.rand()*N).astype(int),:]\n",
    "x8 = X_normed[np.floor(np.random.rand()*N).astype(int),:]\n",
    "sigma3 = np.linalg.norm(x7-x8)\n",
    "\n",
    "x9 = X_normed[np.floor(np.random.rand()*N).astype(int),:]\n",
    "x10 = X_normed[np.floor(np.random.rand()*N).astype(int),:]\n",
    "sigma4 = np.linalg.norm(x9-x10)\n",
    "\n",
    "sigma_new=(sigma1+sigma2+sigma3+sigma4)/4\n",
    "print(round(sigma,4))\n",
    "print(round(sigma_new,4))"
   ]
  },
  {
   "cell_type": "code",
   "execution_count": 125,
   "metadata": {},
   "outputs": [
    {
     "name": "stdout",
     "output_type": "stream",
     "text": [
      "(20, 10)\n"
     ]
    }
   ],
   "source": [
    "#2.3, Using K-means clustering (with K = M) and set the basis function locations to the cluster centres\n",
    "from sklearn.cluster import KMeans\n",
    "kmeans = KMeans(n_clusters=M, random_state=0).fit(X_normed)\n",
    "print(kmeans.cluster_centers_.shape)"
   ]
  },
  {
   "cell_type": "code",
   "execution_count": 126,
   "metadata": {},
   "outputs": [
    {
     "name": "stdout",
     "output_type": "stream",
     "text": [
      "309\n"
     ]
    }
   ],
   "source": [
    "# 2.4, Split data into training and test sets\n",
    "from sklearn.model_selection import train_test_split\n",
    "X_train, X_test, y_train, y_test = train_test_split(X_normed, y, test_size=0.3)\n",
    "print(X_train.shape[0])"
   ]
  },
  {
   "cell_type": "code",
   "execution_count": 127,
   "metadata": {},
   "outputs": [
    {
     "data": {
      "image/png": "[encoded data removed]",
      "text/plain": [
       "<Figure size 432x216 with 2 Axes>"
      ]
     },
     "metadata": {
      "needs_background": "light"
     },
     "output_type": "display_data"
    }
   ],
   "source": [
    "#2.5, Reimplement the RBF model\n",
    "#train--------\n",
    "U_train = np.zeros((X_train.shape[0],M))# Return trainsize*M dimension matrix filled with zeros\n",
    "# Construct the design matrix\n",
    "#\n",
    "for i in range(X_train.shape[0]):\n",
    "    for j in range(M):\n",
    "        U_train[i,j] = gaussian(X_train[i,:], kmeans.cluster_centers_[j,:], sigma_new)\n",
    "# Pseudo inverse solution for linear part\n",
    "#\n",
    "l_new = np.linalg.inv(U_train.T @ U_train) @ U_train.T @ y_train\n",
    "# Predicted values on training data\n",
    "#\n",
    "yh_train = U_train @ l_new\n",
    "\n",
    "\n",
    "#test-----------\n",
    "U_test = np.zeros((X_test.shape[0],M))# Return trainsize*M dimension matrix filled with zeros\n",
    "# Construct the design matrix\n",
    "#\n",
    "for i in range(X_test.shape[0]):\n",
    "    for j in range(M):\n",
    "        U_test[i,j] = gaussian(X_test[i,:], kmeans.cluster_centers_[j,:], sigma_new)\n",
    "\n",
    "# Predicted values on training data\n",
    "#\n",
    "yh_test = U_test @ l_new\n",
    "\n",
    "fig, ax = plt.subplots(nrows=1, ncols=2, figsize=(6,3))\n",
    "ax[0].scatter(y_train, yh_train, c='m', s=3)\n",
    "ax[0].grid(True)\n",
    "ax[0].set_title(\"Training Set\", fontsize=14)\n",
    "ax[0].set_xlabel(\"True Target\", fontsize=12)\n",
    "ax[0].set_ylabel(\"Prediction\", fontsize=12)\n",
    "\n",
    "ax[1].scatter(y_test, yh_test, c='m', s=3)\n",
    "ax[1].grid(True)\n",
    "ax[1].set_title(\"Test Set\", fontsize=14)\n",
    "ax[1].set_xlabel(\"True Target\", fontsize=12)\n",
    "#ax[1].set_ylabel(\"Prediction\", fontsize=12)\n",
    "\n",
    "fig.savefig('fig2')"
   ]
  },
  {
   "cell_type": "code",
   "execution_count": 42,
   "metadata": {},
   "outputs": [
    {
     "name": "stdout",
     "output_type": "stream",
     "text": [
      "[-3319.69258714 -2727.47718696 -2611.16224586 -3381.09358172\n",
      " -3248.22014085 -3146.74309247 -3173.64361407 -3168.59181615\n",
      " -2647.96417109 -2749.01079102]\n"
     ]
    }
   ],
   "source": [
    "# 3,ten fold cross validation\n",
    "from sklearn import linear_model\n",
    "from sklearn.model_selection import cross_val_score, KFold\n",
    "kf = KFold(10, shuffle=True, random_state=1)\n",
    "model=linear_model.LinearRegression()\n",
    "mses = cross_val_score(model, X_normed, y, scoring=\"neg_mean_squared_error\", cv=kf)\n",
    "print(mses)"
   ]
  },
  {
   "cell_type": "code",
   "execution_count": 128,
   "metadata": {},
   "outputs": [],
   "source": [
    "def RBF_model(X_train_,y_train_,X_test_):    \n",
    "    #train--------\n",
    "    U_train_ = np.zeros((X_train_.shape[0],M))# Return trainsize*M dimension matrix filled with zeros\n",
    "    # Construct the design matrix\n",
    "    #\n",
    "    for i in range(X_train_.shape[0]):\n",
    "        for j in range(M):\n",
    "            U_train_[i,j] = gaussian(X_train_[i,:], kmeans.cluster_centers_[j,:], sigma_new)\n",
    "    # Pseudo inverse solution for linear part\n",
    "    #\n",
    "    l_new_ = np.linalg.inv(U_train_.T @ U_train_) @ U_train_.T @ y_train_\n",
    "    # Predicted values on training data\n",
    "    #yh_train = U_train @ l_new\n",
    "\n",
    "\n",
    "    #test-----------\n",
    "    U_test_ = np.zeros((X_test_.shape[0],M))# Return trainsize*M dimension matrix filled with zeros\n",
    "    # Construct the design matrix\n",
    "    #\n",
    "    for i in range(X_test_.shape[0]):\n",
    "        for j in range(M):\n",
    "            U_test_[i,j] = gaussian(X_test_[i,:], kmeans.cluster_centers_[j,:], sigma_new)\n",
    "\n",
    "    # Predicted values on training data\n",
    "    #\n",
    "    yh_test_ = U_test_ @ l_new_\n",
    "    return yh_test_"
   ]
  },
  {
   "cell_type": "code",
   "execution_count": 129,
   "metadata": {},
   "outputs": [
    {
     "name": "stdout",
     "output_type": "stream",
     "text": [
      "['2552.96', '2916.32', '3517.61', '2609.62', '3605.83', '2908.94', '3801.59', '2211.73', '4248.14', '1787.24']\n",
      "['3367.02', '2620.83', '2853.60', '2876.54', '3312.29', '3297.07', '3324.82', '2227.35', '3854.51', '2302.26']\n"
     ]
    }
   ],
   "source": [
    "from sklearn.metrics import mean_squared_error\n",
    "def train_and_validate(D,f, folds):\n",
    "    fold_mses1 = []\n",
    "    fold_mses2 = []\n",
    "    for fold in folds:\n",
    "        # Train\n",
    "        size=int(D.shape[0]/10)\n",
    "        model = linear_model.LinearRegression()\n",
    "        \n",
    "        D_test = D[(fold-1)*size:fold*size,:]\n",
    "        f_test = f[(fold-1)*size:fold*size]\n",
    "\n",
    "        D_train1 = D[0:(fold-1)*size,:]\n",
    "        D_train2 = D[fold*size:,:]\n",
    "        D_train=np.concatenate((D_train1, D_train2), axis=0)\n",
    "        f_train1 = f[0:(fold-1)*size]\n",
    "        f_train2 = f[fold*size:]\n",
    "        f_train=np.concatenate((f_train1, f_train2), axis=0)\n",
    "        \n",
    "        model.fit(D_train, f_train)\n",
    "        # Predict\n",
    "        fp1 = model.predict(D_test)\n",
    "        fp2=RBF_model(D_train,f_train,D_test)\n",
    "        mse1 = mean_squared_error(f_test, fp1)\n",
    "        mse2 = mean_squared_error(f_test, fp2)\n",
    "        #rmse = mse**(1/2)\n",
    "        fold_mses1.append(mse1)\n",
    "        fold_mses2.append(mse2)\n",
    "    return(fold_mses1,fold_mses2)\n",
    "fold_ids = [1,2,3,4,5,6,7,8,9,10]\n",
    "mses1,mses2 = train_and_validate(X_normed,y, fold_ids)\n",
    "print(['%.2f' % elem for elem in mses1] )\n",
    "print(['%.2f' % elem for elem in mses2] )"
   ]
  },
  {
   "cell_type": "code",
   "execution_count": 130,
   "metadata": {},
   "outputs": [
    {
     "data": {
      "image/png": "[encoded data removed]",
      "text/plain": [
       "<Figure size 648x432 with 1 Axes>"
      ]
     },
     "metadata": {
      "needs_background": "light"
     },
     "output_type": "display_data"
    }
   ],
   "source": [
    "#4, plot the box plot\n",
    "# Create data\n",
    "data_to_plot = [mses1, mses2]\n",
    "# Create a figure instance\n",
    "fig = plt.figure(1, figsize=(9, 6))\n",
    "# Create an axes instance\n",
    "ax = fig.add_subplot(111)\n",
    "# Create the boxplot\n",
    "ax.boxplot(data_to_plot)\n",
    "# Save the figure\n",
    "fig.savefig('fig3.png', bbox_inches='tight')"
   ]
  },
  {
   "cell_type": "code",
   "execution_count": 115,
   "metadata": {},
   "outputs": [
    {
     "name": "stderr",
     "output_type": "stream",
     "text": [
      "C:\\Users\\shafe_000\\Anaconda3\\lib\\site-packages\\sklearn\\svm\\base.py:193: FutureWarning: The default value of gamma will change from 'auto' to 'scale' in version 0.22 to account better for unscaled features. Set gamma explicitly to 'auto' or 'scale' to avoid this warning.\n",
      "  \"avoid this warning.\", FutureWarning)\n"
     ]
    }
   ],
   "source": [
    "#5,sklearn’s inbuilt RBF model.\n",
    "from sklearn.svm import SVR\n",
    "regressor = SVR(kernel='rbf')\n",
    "#X_train, X_test, y_train, y_test\n",
    "regressor.fit(X_train,y_train)\n",
    "yh_train_svr = regressor.predict(X_train)\n",
    "yh_test_svr = regressor.predict(X_test)"
   ]
  },
  {
   "cell_type": "code",
   "execution_count": 116,
   "metadata": {},
   "outputs": [
    {
     "data": {
      "image/png": "[encoded data removed]",
      "text/plain": [
       "<Figure size 432x216 with 2 Axes>"
      ]
     },
     "metadata": {
      "needs_background": "light"
     },
     "output_type": "display_data"
    }
   ],
   "source": [
    "fig, ax = plt.subplots(nrows=1, ncols=2, figsize=(6,3))\n",
    "ax[0].scatter(y_train, yh_train_svr, c='m', s=3)\n",
    "ax[0].grid(True)\n",
    "ax[0].set_title(\"Training Set\", fontsize=14)\n",
    "ax[0].set_xlabel(\"True Target\", fontsize=12)\n",
    "ax[0].set_ylabel(\"Prediction\", fontsize=12)\n",
    "\n",
    "ax[1].scatter(y_test, yh_test_svr, c='m', s=3)\n",
    "ax[1].grid(True)\n",
    "ax[1].set_title(\"Test Set\", fontsize=14)\n",
    "ax[1].set_xlabel(\"True Target\", fontsize=12)\n",
    "#ax[1].set_ylabel(\"Prediction\", fontsize=12)\n",
    "\n",
    "fig.savefig('fig4')"
   ]
  },
  {
   "cell_type": "code",
   "execution_count": 121,
   "metadata": {},
   "outputs": [
    {
     "name": "stdout",
     "output_type": "stream",
     "text": [
      "rbf train mse 2869.96\n",
      "rbf test mse 3079.05\n",
      "svr train mse 5085.82\n",
      "svr test mse 4666.23\n"
     ]
    }
   ],
   "source": [
    "\n",
    "print('rbf train mse',round(mean_squared_error(y_train, yh_train),2))\n",
    "print('rbf test mse',round(mean_squared_error(y_test, yh_test),2))\n",
    "\n",
    "print('svr train mse',round(mean_squared_error(y_train, yh_train_svr),2))\n",
    "print('svr test mse',round(mean_squared_error(y_test, yh_test_svr),2))"
   ]
  },
  {
   "cell_type": "code",
   "execution_count": null,
   "metadata": {},
   "outputs": [],
   "source": []
  }
 ],
 "metadata": {
  "kernelspec": {
   "display_name": "Python 3",
   "language": "python",
   "name": "python3"
  },
  "language_info": {
   "codemirror_mode": {
    "name": "ipython",
    "version": 3
   },
   "file_extension": ".py",
   "mimetype": "text/x-python",
   "name": "python",
   "nbconvert_exporter": "python",
   "pygments_lexer": "ipython3",
   "version": "3.7.3"
  }
 },
 "nbformat": 4,
 "nbformat_minor": 2
}

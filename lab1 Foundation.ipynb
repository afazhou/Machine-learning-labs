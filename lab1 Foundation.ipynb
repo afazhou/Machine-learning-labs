{
 "cells": [
  {
   "cell_type": "code",
   "execution_count": 3,
   "metadata": {},
   "outputs": [
    {
     "name": "stdout",
     "output_type": "stream",
     "text": [
      "Hello World!\n"
     ]
    }
   ],
   "source": [
    "#test\n",
    "import numpy as np\n",
    "import matplotlib.pyplot as plt\n",
    "print('Hello World!')"
   ]
  },
  {
   "cell_type": "code",
   "execution_count": 7,
   "metadata": {},
   "outputs": [
    {
     "name": "stdout",
     "output_type": "stream",
     "text": [
      "0\n"
     ]
    }
   ],
   "source": [
    "#the dot product\n",
    "x= np.array([1,2])\n",
    "y= np.array([-2,1])\n",
    "a=np.dot(x,y)\n",
    "print(a)"
   ]
  },
  {
   "cell_type": "code",
   "execution_count": 8,
   "metadata": {},
   "outputs": [
    {
     "name": "stdout",
     "output_type": "stream",
     "text": [
      "2.23606797749979 2.23606797749979\n"
     ]
    }
   ],
   "source": [
    "#the norm of a vector\n",
    "b=np.linalg.norm(x)\n",
    "c=np.sqrt(x[0]**2+x[1]**2)\n",
    "print(b,c)"
   ]
  },
  {
   "cell_type": "code",
   "execution_count": 9,
   "metadata": {},
   "outputs": [
    {
     "name": "stdout",
     "output_type": "stream",
     "text": [
      "90.0\n"
     ]
    }
   ],
   "source": [
    "#Angle between two vectors\n",
    "theta=np.arccos(np.dot(x,y)/((np.linalg.norm(x))*(np.linalg.norm(y))))\n",
    "print(theta*180/np.pi)"
   ]
  },
  {
   "cell_type": "code",
   "execution_count": 10,
   "metadata": {},
   "outputs": [
    {
     "name": "stdout",
     "output_type": "stream",
     "text": [
      "[[3. 2. 1.]\n",
      " [2. 6. 5.]\n",
      " [1. 5. 9.]]\n",
      "[[0. 0. 0.]\n",
      " [0. 0. 0.]\n",
      " [0. 0. 0.]]\n"
     ]
    }
   ],
   "source": [
    "#The transpose of the matrix\n",
    "#Since the matrix transpose is itself, so the result of print(B-B.T) is 0 matrix\n",
    "B=np.array([[3,2,1],[2,6,5],[1,5,9]],dtype=float)\n",
    "print(B)\n",
    "print(B-B.T)"
   ]
  },
  {
   "cell_type": "code",
   "execution_count": 11,
   "metadata": {},
   "outputs": [
    {
     "name": "stdout",
     "output_type": "stream",
     "text": [
      "(3,)\n",
      "[4.62065476 8.79490234 8.7908768 ]\n"
     ]
    }
   ],
   "source": [
    "# Matrix vector multiplication\n",
    "\n",
    "# Random values in a given shape.\n",
    "# Create an array of the given shape and populate it with random samples from a uniform distribution over [0, 1).\n",
    "z=np.random.rand(3)\n",
    "v= B @ z\n",
    "print(v.shape)\n",
    "print(v)"
   ]
  },
  {
   "cell_type": "code",
   "execution_count": 12,
   "metadata": {},
   "outputs": [
    {
     "name": "stdout",
     "output_type": "stream",
     "text": [
      "14.92861911837159\n"
     ]
    }
   ],
   "source": [
    "#Quadratic form\n",
    "print(z.T @ B @ z)"
   ]
  },
  {
   "cell_type": "code",
   "execution_count": 13,
   "metadata": {},
   "outputs": [
    {
     "name": "stdout",
     "output_type": "stream",
     "text": [
      "18.0\n",
      "65.00000000000004\n"
     ]
    }
   ],
   "source": [
    "# The trace and the det of a matrix\n",
    "print(np.trace(B))\n",
    "print(np.linalg.det(B))"
   ]
  },
  {
   "cell_type": "code",
   "execution_count": 14,
   "metadata": {},
   "outputs": [
    {
     "name": "stdout",
     "output_type": "stream",
     "text": [
      "[[ 0.44615385 -0.2         0.06153846]\n",
      " [-0.2         0.4        -0.2       ]\n",
      " [ 0.06153846 -0.2         0.21538462]]\n",
      "[[ 1.00000000e+00  8.32667268e-17 -2.77555756e-17]\n",
      " [ 0.00000000e+00  1.00000000e+00  0.00000000e+00]\n",
      " [ 2.77555756e-17  1.94289029e-16  1.00000000e+00]]\n"
     ]
    }
   ],
   "source": [
    "# the inverse of the matrix and the prodcut of the matrix and its inverse(Identity matrix)\n",
    "# the accuracy of calculation result is weird in Python\n",
    "print(np.linalg.inv(B))\n",
    "print(np.linalg.inv(B) @ B)"
   ]
  },
  {
   "cell_type": "code",
   "execution_count": 27,
   "metadata": {},
   "outputs": [
    {
     "name": "stdout",
     "output_type": "stream",
     "text": [
      "[2. 3.]\n",
      "[[-0.89442719 -0.70710678]\n",
      " [-0.4472136  -0.70710678]]\n",
      "[-1.78885438 -0.89442719]\n",
      "[-1.78885438 -0.89442719]\n",
      "[-2.12132034 -2.12132034]\n",
      "[-2.12132034 -2.12132034]\n"
     ]
    }
   ],
   "source": [
    "#Demonstration of Eigenvalue and Eigenvector\n",
    "Test=np.array([[1,2],[-1,4]],dtype=float)\n",
    "eva,eve=np.linalg.eig(Test)  \n",
    "print(eva)\n",
    "print(eve)\n",
    "# Verification of the equation Ax=λx\n",
    "print(2*eve[:,0])\n",
    "print(Test @ eve[:,0]) #the eigenvector of eigenvalue 2\n",
    "\n",
    "print(3*eve[:,1])\n",
    "print(Test @ eve[:,1]) #the eigenvector of eigenvalue 3"
   ]
  },
  {
   "cell_type": "code",
   "execution_count": 15,
   "metadata": {},
   "outputs": [
    {
     "name": "stdout",
     "output_type": "stream",
     "text": [
      "[13.11766327  3.44324229  1.43909444]\n"
     ]
    }
   ],
   "source": [
    "# Eigenvalues and Eigenvectors\n",
    "D,U=np.linalg.eig(B)\n",
    "print(D) # Eigenvalues"
   ]
  },
  {
   "cell_type": "code",
   "execution_count": 16,
   "metadata": {},
   "outputs": [
    {
     "name": "stdout",
     "output_type": "stream",
     "text": [
      "[[-0.19527095 -0.74608451  0.63657455]\n",
      " [-0.59990492 -0.42261825 -0.67934373]\n",
      " [-0.77587586  0.5145403   0.3650547 ]]\n"
     ]
    }
   ],
   "source": [
    "print(U) # Eigenvectors"
   ]
  },
  {
   "cell_type": "code",
   "execution_count": 34,
   "metadata": {},
   "outputs": [
    {
     "name": "stdout",
     "output_type": "stream",
     "text": [
      "13.117663272536104\n",
      "3.4432422901930515\n",
      "[-0.19527095 -0.59990492 -0.77587586]\n",
      "[-0.74608451 -0.42261825  0.5145403 ]\n"
     ]
    }
   ],
   "source": [
    "print(D[0])\n",
    "print(D[1])\n",
    "print(U[:,0])\n",
    "print(U[:,1])"
   ]
  },
  {
   "cell_type": "code",
   "execution_count": 31,
   "metadata": {},
   "outputs": [
    {
     "name": "stdout",
     "output_type": "stream",
     "text": [
      "[ -2.56149853  -7.86935069 -10.17767826]\n",
      "[ -2.56149853  -7.86935069 -10.17767826]\n"
     ]
    }
   ],
   "source": [
    "# Verification of the equation Ax=λx\n",
    "print(B @ U[:,0]) #Ax\n",
    "print(D[0]*U[:,0])#λx"
   ]
  },
  {
   "cell_type": "code",
   "execution_count": 35,
   "metadata": {},
   "outputs": [
    {
     "name": "stdout",
     "output_type": "stream",
     "text": [
      "-2.7755575615628914e-16\n",
      "90.00000000000001\n",
      "-3.3306690738754696e-16\n",
      "90.00000000000001\n",
      "-1.6653345369377348e-16\n",
      "90.00000000000001\n"
     ]
    }
   ],
   "source": [
    "#the dot product of the 1st eigenvector and the 2nd eigenvector\n",
    "print(np.dot(U[:,0],U[:,1]))\n",
    "#the angle between the 1st eigenvector and the 2nd eigenvector\n",
    "theta=np.arccos(np.dot(U[:,0],U[:,1])/((np.linalg.norm(U[:,0]))*(np.linalg.norm(U[:,1]))))\n",
    "print(theta*180/np.pi)\n",
    "\n",
    "#the dot product of the 1st eigenvector and the 3rd eigenvector\n",
    "print(np.dot(U[:,0],U[:,2]))\n",
    "#the angle between the 1st eigenvector and the 3rd eigenvector\n",
    "theta=np.arccos(np.dot(U[:,0],U[:,2])/((np.linalg.norm(U[:,0]))*(np.linalg.norm(U[:,2]))))\n",
    "print(theta*180/np.pi)\n",
    "\n",
    "#the dot product of the 2nd eigenvector and the 3rd eigenvector\n",
    "print(np.dot(U[:,1],U[:,2]))\n",
    "#the angle between the 2nd eigenvector and the 3rd eigenvector\n",
    "theta=np.arccos(np.dot(U[:,1],U[:,2])/((np.linalg.norm(U[:,1]))*(np.linalg.norm(U[:,2]))))\n",
    "print(theta*180/np.pi)"
   ]
  },
  {
   "cell_type": "code",
   "execution_count": 37,
   "metadata": {},
   "outputs": [
    {
     "name": "stdout",
     "output_type": "stream",
     "text": [
      "1.0\n",
      "1.0\n",
      "1.0\n"
     ]
    }
   ],
   "source": [
    "#the norm of eigenvector\n",
    "print(np.linalg.norm(U[:,0]))\n",
    "print(np.linalg.norm(U[:,1]))\n",
    "print(np.linalg.norm(U[:,2]))"
   ]
  },
  {
   "cell_type": "code",
   "execution_count": 38,
   "metadata": {},
   "outputs": [
    {
     "name": "stdout",
     "output_type": "stream",
     "text": [
      "[[-0.19527095 -0.74608451  0.63657455]\n",
      " [-0.59990492 -0.42261825 -0.67934373]\n",
      " [-0.77587586  0.5145403   0.3650547 ]]\n",
      "[[-0.19527095 -0.59990492 -0.77587586]\n",
      " [-0.74608451 -0.42261825  0.5145403 ]\n",
      " [ 0.63657455 -0.67934373  0.3650547 ]]\n",
      "[[ 1.00000000e+00 -1.11022302e-16  5.55111512e-17]\n",
      " [-1.11022302e-16  1.00000000e+00  0.00000000e+00]\n",
      " [ 5.55111512e-17  0.00000000e+00  1.00000000e+00]]\n",
      "[[ 1.00000000e+00 -2.22044605e-16 -3.33066907e-16]\n",
      " [-2.22044605e-16  1.00000000e+00 -1.94289029e-16]\n",
      " [-3.33066907e-16 -1.94289029e-16  1.00000000e+00]]\n"
     ]
    }
   ],
   "source": [
    "#Multiplication of eigenvector and its transpose\n",
    "print(U)\n",
    "print(U.T)\n",
    "print(U @ U.T)\n",
    "print(U.T @ U)"
   ]
  },
  {
   "cell_type": "code",
   "execution_count": 16,
   "metadata": {},
   "outputs": [
    {
     "name": "stdout",
     "output_type": "stream",
     "text": [
      "[[1 0 0]\n",
      " [0 2 0]\n",
      " [0 0 3]]\n",
      "[1. 2. 3.]\n",
      "[[1. 0. 0.]\n",
      " [0. 1. 0.]\n",
      " [0. 0. 1.]]\n"
     ]
    }
   ],
   "source": [
    "print(np.diag((1, 2, 3)))\n",
    "w,v = np.linalg.eig(np.diag((1, 2, 3)))\n",
    "print(w)\n",
    "print(v)\n"
   ]
  },
  {
   "cell_type": "code",
   "execution_count": 17,
   "metadata": {},
   "outputs": [
    {
     "name": "stdout",
     "output_type": "stream",
     "text": [
      "[497. 527. 495. 518. 523. 539. 474. 463. 517. 456. 510. 514. 553. 483.\n",
      " 453. 526. 458. 469. 537. 488.]\n",
      "[5.01755576e-05 5.00439470e-02 1.00037718e-01 1.50031490e-01\n",
      " 2.00025261e-01 2.50019033e-01 3.00012804e-01 3.50006575e-01\n",
      " 4.00000347e-01 4.49994118e-01 4.99987890e-01 5.49981661e-01\n",
      " 5.99975432e-01 6.49969204e-01 6.99962975e-01 7.49956747e-01\n",
      " 7.99950518e-01 8.49944290e-01 8.99938061e-01 9.49931832e-01\n",
      " 9.99925604e-01]\n"
     ]
    },
    {
     "data": {
      "image/png": "[encoded data removed]",
      "text/plain": [
       "<Figure size 288x216 with 1 Axes>"
      ]
     },
     "metadata": {
      "needs_background": "light"
     },
     "output_type": "display_data"
    }
   ],
   "source": [
    "# Random Numbers and Univariate Distributions\n",
    "\n",
    "# Random values in a given shape.\n",
    "# Create an array of the given shape and populate it with random samples from a uniform distribution over [0, 1)                                                                                                        \n",
    "x=np.random.rand(10000,1)\n",
    "#plot\n",
    "plt.figure(figsize=(4,3))\n",
    "n,bins,patches=plt.hist(x, bins=20, color='m', alpha=0.8, rwidth=0.8)\n",
    "print(n)\n",
    "print(bins)"
   ]
  },
  {
   "cell_type": "code",
   "execution_count": 18,
   "metadata": {},
   "outputs": [
    {
     "name": "stdout",
     "output_type": "stream",
     "text": [
      "Variation within bin counts: 3.74e-05\n",
      "Variation within bin counts: 4.33e-05\n",
      "Variation within bin counts: 2.6200000000000007e-05\n",
      "Variation within bin counts: 7.130000000000003e-05\n",
      "Variation within bin counts: 6.840000000000001e-05\n",
      "Variation within bin counts: 4.34e-05\n",
      "Variation within bin counts: 3.220000000000001e-05\n",
      "Variation within bin counts: 3.19e-05\n",
      "Variation within bin counts: 6.11e-05\n",
      "Variation within bin counts: 3.6700000000000004e-05\n"
     ]
    },
    {
     "data": {
      "image/png": "[encoded data removed]",
      "text/plain": [
       "<Figure size 432x288 with 1 Axes>"
      ]
     },
     "metadata": {
      "needs_background": "light"
     },
     "output_type": "display_data"
    }
   ],
   "source": [
    "MaxTrials=10\n",
    "NumSamples=1000\n",
    "NumBins=20\n",
    "for trial in range(MaxTrials):  #Create a sequence of numbers from 0 to 9\n",
    "    x=np.random.rand(NumSamples,1) #sample from a uniform distribution over [0,1)\n",
    "    counts, bins, patches=plt.hist(x, NumBins)\n",
    "    #plt.clf() # clear the current figure\n",
    "    print('Variation within bin counts:', np.var(counts/NumSamples))"
   ]
  },
  {
   "cell_type": "code",
   "execution_count": 39,
   "metadata": {},
   "outputs": [
    {
     "name": "stdout",
     "output_type": "stream",
     "text": [
      "Variation within bin counts: 0.0016919000000000003\n",
      "Variation within bin counts: 0.0022648\n",
      "Variation within bin counts: 0.0020739\n",
      "Variation within bin counts: 0.0023471000000000004\n",
      "Variation within bin counts: 0.0019065000000000002\n",
      "Variation within bin counts: 0.0021983\n",
      "Variation within bin counts: 0.0026983000000000003\n",
      "Variation within bin counts: 0.0017807999999999997\n",
      "Variation within bin counts: 0.0016547000000000003\n",
      "Variation within bin counts: 0.0025168000000000005\n"
     ]
    },
    {
     "data": {
      "image/png": "[encoded data removed]",
      "text/plain": [
       "<Figure size 432x288 with 1 Axes>"
      ]
     },
     "metadata": {
      "needs_background": "light"
     },
     "output_type": "display_data"
    }
   ],
   "source": [
    "MaxTrials=10\n",
    "NumSamples=1000\n",
    "NumBins=20\n",
    "for trial in range(MaxTrials):  #Create a sequence of numbers from 0 to 9\n",
    "    x=np.random.randn(NumSamples,1) #sample from a standard normal distribution\n",
    "    counts, bins, patches=plt.hist(x, NumBins)\n",
    "    #plt.clf() # clear the current figure\n",
    "    print('Variation within bin counts:', np.var(counts/NumSamples))"
   ]
  },
  {
   "cell_type": "code",
   "execution_count": 59,
   "metadata": {},
   "outputs": [
    {
     "data": {
      "text/plain": [
       "Text(0.5, 1.0, 'Histogram')"
      ]
     },
     "execution_count": 59,
     "metadata": {},
     "output_type": "execute_result"
    },
    {
     "data": {
      "image/png": "[encoded data removed]",
      "text/plain": [
       "<Figure size 432x288 with 1 Axes>"
      ]
     },
     "metadata": {
      "needs_background": "light"
     },
     "output_type": "display_data"
    }
   ],
   "source": [
    "N=1000;\n",
    "x1=np.zeros(N) #Return a new array of given shape and type, filled with zeros.\n",
    "for n in range(N): #it generates a list of numbers, which is generally used to iterate over with for loops\n",
    "    x1[n]=sum(np.random.rand(12,1))-np.sum(np.random.rand(12,1))\n",
    "plt.hist(x1,40, color='b', alpha=0.8,rwidth=0.8)\n",
    "plt.xlabel('Bin', FontSize=16)\n",
    "plt.ylabel('Counts', FontSize=16)\n",
    "plt.grid(True)\n",
    "plt.title('Histogram', FontSize=16)"
   ]
  },
  {
   "cell_type": "code",
   "execution_count": 48,
   "metadata": {},
   "outputs": [
    {
     "name": "stdout",
     "output_type": "stream",
     "text": [
      "[0.0987136]\n",
      "[0.86046503]\n",
      "0.7617514300627193\n"
     ]
    }
   ],
   "source": [
    "a=sum(np.random.rand(1,1))\n",
    "b=np.sum(np.random.rand(1,1))\n",
    "print(a-b)\n",
    "print(a)\n",
    "print(b)"
   ]
  },
  {
   "cell_type": "code",
   "execution_count": 71,
   "metadata": {},
   "outputs": [
    {
     "data": {
      "text/plain": [
       "[<matplotlib.lines.Line2D at 0x2c5533117b8>]"
      ]
     },
     "execution_count": 71,
     "metadata": {},
     "output_type": "execute_result"
    },
    {
     "data": {
      "image/png": "[encoded data removed]",
      "text/plain": [
       "<Figure size 432x288 with 1 Axes>"
      ]
     },
     "metadata": {
      "needs_background": "light"
     },
     "output_type": "display_data"
    }
   ],
   "source": [
    "#Uncertainty in Estimation\n",
    "sampleSizeRange = np.linspace(100,200,40)\n",
    "# Return evenly spaced numbers over a specified interval.\n",
    "#Demonstration\n",
    "# # np.linspace(2.0, 3.0, num=5)\n",
    "# # array([2.  , 2.25, 2.5 , 2.75, 3.  ])\n",
    "# # np.linspace(2.0, 3.0, num=5, endpoint=False)\n",
    "# # array([2. ,  2.2,  2.4,  2.6,  2.8])\n",
    "# # np.linspace(2.0, 3.0, num=5, retstep=True)\n",
    "# # (array([2.  ,  2.25,  2.5 ,  2.75,  3.  ]), 0.25)\n",
    "plotVar =np.zeros(len(sampleSizeRange))#Return a new array of given shape and type, filled with zeros.\n",
    "for sSize in range(len(sampleSizeRange)):\n",
    "    numSamples =np.int(sampleSizeRange[sSize])# Rerurn the different size of the sample #np.int means round down to the nearest int\n",
    "    MaxTrial=2000\n",
    "    vStrial=np.zeros(MaxTrial)\n",
    "    for trial in range(MaxTrial):\n",
    "        xx=np.random.randn(numSamples,1)\n",
    "        vStrial[trial]=np.var(xx)#the variance of each sample\n",
    "    plotVar[sSize]=np.var(vStrial)#the variance of the sample variances obey chi sqaure distribution    \n",
    "plt.plot(sampleSizeRange, plotVar)        \n"
   ]
  },
  {
   "cell_type": "code",
   "execution_count": 70,
   "metadata": {},
   "outputs": [
    {
     "name": "stdout",
     "output_type": "stream",
     "text": [
      "[100.         102.56410256 105.12820513 107.69230769 110.25641026\n",
      " 112.82051282 115.38461538 117.94871795 120.51282051 123.07692308\n",
      " 125.64102564 128.20512821 130.76923077 133.33333333 135.8974359\n",
      " 138.46153846 141.02564103 143.58974359 146.15384615 148.71794872\n",
      " 151.28205128 153.84615385 156.41025641 158.97435897 161.53846154\n",
      " 164.1025641  166.66666667 169.23076923 171.79487179 174.35897436\n",
      " 176.92307692 179.48717949 182.05128205 184.61538462 187.17948718\n",
      " 189.74358974 192.30769231 194.87179487 197.43589744 200.        ]\n",
      "107\n",
      "40\n"
     ]
    }
   ],
   "source": [
    "print(sampleSizeRange)\n",
    "\n",
    "print(np.int(sampleSizeRange[3]))\n",
    "\n",
    "print(len(sampleSizeRange))"
   ]
  },
  {
   "cell_type": "code",
   "execution_count": 4,
   "metadata": {},
   "outputs": [
    {
     "data": {
      "image/png": "[encoded data removed]",
      "text/plain": [
       "<Figure size 432x432 with 1 Axes>"
      ]
     },
     "metadata": {
      "needs_background": "light"
     },
     "output_type": "display_data"
    }
   ],
   "source": [
    "# Bivariate Gaussian Distribution\n",
    "import math\n",
    "def gauss2D(x,m,C):\n",
    "    Ci = np.linalg.inv(C)#Compute the (multiplicative) inverse of a matrix.\n",
    "    dC = np.linalg.det(C)#Compute the determinant of an array.\n",
    "    num=np.exp(-0.5*np.dot((x-m).T, np.dot(Ci,(x-m))))\n",
    "    den=2*np.pi*math.sqrt(dC)\n",
    "    return num/den\n",
    "\n",
    "def twoDGaussianPlot(nx,ny,m,C):\n",
    "    x=np.linspace(-5,5,nx)#Return evenly spaced numbers over a specified interval.\n",
    "    y=np.linspace(-5,5,ny)\n",
    "    X,Y= np.meshgrid(x,y,indexing='ij')\n",
    "    \n",
    "    Z=np.zeros([nx,ny])\n",
    "    for i in range(nx):\n",
    "        for j in range(ny):\n",
    "            xvec=np.array([X[i,j],Y[i,j]])\n",
    "            Z[i,j]=gauss2D(xvec,m,C)\n",
    "    return X,Y,Z        \n",
    "\n",
    "nx,ny=1000,40\n",
    "plt.figure(figsize=(6,6))\n",
    "\n",
    "m1=np.array([0,2])\n",
    "C1=np.array([[2,1],[1,2]], np.float32)\n",
    "Xp, Yp, Zp=twoDGaussianPlot(nx,ny,m1,C1)\n",
    "plt.contour(Xp,Yp,Zp,3)\n",
    "plt.grid(True)"
   ]
  },
  {
   "cell_type": "code",
   "execution_count": 79,
   "metadata": {},
   "outputs": [
    {
     "name": "stdout",
     "output_type": "stream",
     "text": [
      "[[2, 1], [1, 2]]\n",
      "[[1.41421356 0.        ]\n",
      " [0.70710678 1.22474487]]\n"
     ]
    }
   ],
   "source": [
    "#Sampling from a Multivariate Gaussian Ditribution\n",
    "C=[[2,1],[1,2]]\n",
    "print(C)\n",
    "A=np.linalg.cholesky(C)\n",
    "# Cholesky decomposition.\n",
    "# Return the Cholesky decomposition, L * L.H, of the square matrix a, \n",
    "# where L is lower-triangular and .H is the conjugate transpose operator (which is the ordinary transpose if a is real-valued). \n",
    "# a must be Hermitian (symmetric if real-valued) and positive-definite. Only L is actually returned.\n",
    "print(A)"
   ]
  },
  {
   "cell_type": "code",
   "execution_count": 80,
   "metadata": {},
   "outputs": [
    {
     "name": "stdout",
     "output_type": "stream",
     "text": [
      "[[2. 1.]\n",
      " [1. 2.]]\n"
     ]
    }
   ],
   "source": [
    "print(A @ A.T)"
   ]
  },
  {
   "cell_type": "code",
   "execution_count": 81,
   "metadata": {},
   "outputs": [
    {
     "name": "stdout",
     "output_type": "stream",
     "text": [
      "(10000, 2)\n",
      "(10000, 2)\n"
     ]
    }
   ],
   "source": [
    "X=np.random.randn(10000,2)\n",
    "Y=X @ A\n",
    "print(X.shape)\n",
    "print(Y.shape)"
   ]
  },
  {
   "cell_type": "code",
   "execution_count": 84,
   "metadata": {},
   "outputs": [
    {
     "data": {
      "text/plain": [
       "Text(0.5, 1.0, 'Scatter of Isotropic and Correlated Gaussian Densities')"
      ]
     },
     "execution_count": 84,
     "metadata": {},
     "output_type": "execute_result"
    },
    {
     "data": {
      "image/png": "[encoded data removed]",
      "text/plain": [
       "<Figure size 432x288 with 1 Axes>"
      ]
     },
     "metadata": {
      "needs_background": "light"
     },
     "output_type": "display_data"
    }
   ],
   "source": [
    "plt.scatter(Y[:,0],Y[:,1],s=3,c='g')\n",
    "plt.scatter(X[:,0],X[:,1],s=3,c='r')\n",
    "plt.grid(True)\n",
    "plt.title('Scatter of Isotropic and Correlated Gaussian Densities')"
   ]
  },
  {
   "cell_type": "code",
   "execution_count": 34,
   "metadata": {},
   "outputs": [
    {
     "name": "stdout",
     "output_type": "stream",
     "text": [
      "The vector:  [0.8660254037844386, 0.5000000000000001]\n",
      "Sum of Squares:  1.0\n",
      "Degrees:  59.99999999999999\n"
     ]
    }
   ],
   "source": [
    "#Distribution of Projections\n",
    "theta=np.pi/3\n",
    "u=[np.sin(theta),np.cos(theta)]\n",
    "print('The vector: ', u)\n",
    "print('Sum of Squares: ', u[0]**2+u[1]**2)\n",
    "print('Degrees: ', theta*180/np.pi)"
   ]
  },
  {
   "cell_type": "code",
   "execution_count": 35,
   "metadata": {},
   "outputs": [
    {
     "name": "stdout",
     "output_type": "stream",
     "text": [
      "(10000,)\n",
      "Projected Variance:  3.021576635923273\n"
     ]
    }
   ],
   "source": [
    "yp=Y @ u\n",
    "print(yp.shape)\n",
    "print('Projected Variance: ', np.var(yp))\n"
   ]
  },
  {
   "cell_type": "code",
   "execution_count": 36,
   "metadata": {},
   "outputs": [
    {
     "data": {
      "text/plain": [
       "Text(0, 0.5, 'Variance of Projections')"
      ]
     },
     "execution_count": 36,
     "metadata": {},
     "output_type": "execute_result"
    },
    {
     "data": {
      "image/png": "[encoded data removed]",
      "text/plain": [
       "<Figure size 432x288 with 1 Axes>"
      ]
     },
     "metadata": {
      "needs_background": "light"
     },
     "output_type": "display_data"
    }
   ],
   "source": [
    "nPoints=50\n",
    "pVars=np.zeros(nPoints)\n",
    "thRange=np.linspace(0,2*np.pi,nPoints)\n",
    "for n in range(nPoints):\n",
    "    theta=thRange[n]\n",
    "    u=[np.sin(theta),np.cos(theta)]\n",
    "    pVars[n]=np.var(Y @ u)\n",
    "plt.plot(pVars)\n",
    "plt.grid(True)\n",
    "plt.xlabel('Direction', fontsize=14)\n",
    "plt.ylabel('Variance of Projections',fontsize=14)"
   ]
  },
  {
   "cell_type": "code",
   "execution_count": 90,
   "metadata": {},
   "outputs": [
    {
     "name": "stdout",
     "output_type": "stream",
     "text": [
      "[3. 1.]\n",
      "[[ 0.70710678 -0.70710678]\n",
      " [ 0.70710678  0.70710678]]\n"
     ]
    }
   ],
   "source": [
    "EVA,EVE=np.linalg.eig(C)\n",
    "print(EVA)\n",
    "print(EVE)"
   ]
  },
  {
   "cell_type": "code",
   "execution_count": 91,
   "metadata": {},
   "outputs": [
    {
     "name": "stdout",
     "output_type": "stream",
     "text": [
      "[3. 1.]\n",
      "[[ 0.70710678  0.70710678]\n",
      " [-0.70710678  0.70710678]]\n"
     ]
    }
   ],
   "source": [
    "C2=[[2,-1],[-1,2]]\n",
    "EVA,EVE=np.linalg.eig(C2)\n",
    "print(EVA)\n",
    "print(EVE)"
   ]
  },
  {
   "cell_type": "code",
   "execution_count": 92,
   "metadata": {},
   "outputs": [
    {
     "data": {
      "image/png": "[encoded data removed]",
      "text/plain": [
       "<Figure size 432x288 with 1 Axes>"
      ]
     },
     "metadata": {
      "needs_background": "light"
     },
     "output_type": "display_data"
    }
   ],
   "source": [
    "A2=np.linalg.cholesky(C2)\n",
    "Y2=X @ A2\n",
    "plt.scatter(Y[:,0],Y[:,1],s=3,c='g')\n",
    "plt.scatter(Y2[:,0],Y2[:,1],s=3,c='r')\n",
    "plt.grid(True)"
   ]
  },
  {
   "cell_type": "code",
   "execution_count": 89,
   "metadata": {},
   "outputs": [
    {
     "data": {
      "text/plain": [
       "<function matplotlib.pyplot.savefig(*args, **kwargs)>"
      ]
     },
     "execution_count": 89,
     "metadata": {},
     "output_type": "execute_result"
    }
   ],
   "source": [
    "plt.savefig"
   ]
  },
  {
   "cell_type": "code",
   "execution_count": null,
   "metadata": {},
   "outputs": [],
   "source": []
  }
 ],
 "metadata": {
  "kernelspec": {
   "display_name": "Python 3",
   "language": "python",
   "name": "python3"
  },
  "language_info": {
   "codemirror_mode": {
    "name": "ipython",
    "version": 3
   },
   "file_extension": ".py",
   "mimetype": "text/x-python",
   "name": "python",
   "nbconvert_exporter": "python",
   "pygments_lexer": "ipython3",
   "version": "3.7.3"
  }
 },
 "nbformat": 4,
 "nbformat_minor": 2
}

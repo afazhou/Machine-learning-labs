{
 "cells": [
  {
   "cell_type": "code",
   "execution_count": 101,
   "metadata": {},
   "outputs": [
    {
     "data": {
      "text/plain": [
       "<matplotlib.collections.PathCollection at 0x214ccaa8cc0>"
      ]
     },
     "execution_count": 101,
     "metadata": {},
     "output_type": "execute_result"
    },
    {
     "data": {
      "image/png": "[encoded data removed]",
      "text/plain": [
       "<Figure size 432x288 with 1 Axes>"
      ]
     },
     "metadata": {
      "needs_background": "light"
     },
     "output_type": "display_data"
    }
   ],
   "source": [
    "import numpy as np\n",
    "import matplotlib.pyplot as plt\n",
    "NumDataPerClass=200\n",
    "m1=[[2.5,2.5]]\n",
    "m2=[[10,10]]\n",
    "C=[[2,1],[1,2]]\n",
    "\n",
    "A=np.linalg.cholesky(C) #Return the Cholesky decomposition\n",
    "X1=np.random.randn(NumDataPerClass,2) #Return a sample (or samples) from the “standard normal” distribution.\n",
    "Y1=X1 @ A+m1# customise to corresponding mean and covariance\n",
    "\n",
    "X2=np.random.randn(NumDataPerClass,2)\n",
    "Y2=X2 @ A +m2\n",
    "\n",
    "# print(A)\n",
    "# print(C)\n",
    "plt.scatter(X1,X2,c='red')# standard\n",
    "plt.scatter(Y1,Y2,c='green')# with mean of m1,m2 and covariance of C"
   ]
  },
  {
   "cell_type": "code",
   "execution_count": 3,
   "metadata": {},
   "outputs": [
    {
     "name": "stdout",
     "output_type": "stream",
     "text": [
      "y_test: [[ 5.  0.  0.]\n",
      " [ 3.  3.  0.]\n",
      " [-1.  1.  3.]]\n",
      "z_test: [[ 5  0  0]\n",
      " [ 3  3  0]\n",
      " [-1  1  3]]\n",
      "z_test_T: [[ 5  3 -1]\n",
      " [ 0  3  1]\n",
      " [ 0  0  3]]\n",
      "z_test @ z_test_T: [[25 15 -5]\n",
      " [15 18  0]\n",
      " [-5  0 11]]\n"
     ]
    }
   ],
   "source": [
    "#demonstration of cholesky decomposition\n",
    "z_test=np.array([[5,0,0],[3,3,0],[-1,1,3]])\n",
    "z_test_T=z_test.T\n",
    "\n",
    "\n",
    "x_test=np.array([[25,15,-5],[15,18,0],[-5,0,11]])\n",
    "y_test=np.linalg.cholesky(x_test)\n",
    "print('y_test:', y_test)\n",
    "print('z_test:', z_test)\n",
    "print('z_test_T:', z_test_T)\n",
    "print('z_test @ z_test_T:', z_test @ z_test_T)"
   ]
  },
  {
   "cell_type": "code",
   "execution_count": 102,
   "metadata": {},
   "outputs": [],
   "source": [
    "Y= np.concatenate((Y1,Y2))\n",
    "\n",
    "\n",
    "# Join a sequence of arrays along an existing axis.\n",
    "\n",
    "# e.g.\n",
    "# a = np.array([[1, 2], [3, 4]])\n",
    "# b = np.array([[5, 6]])\n",
    "# np.concatenate((a, b), axis=0)\n",
    "# array([[1, 2],\n",
    "#        [3, 4],\n",
    "#        [5, 6]])"
   ]
  },
  {
   "cell_type": "code",
   "execution_count": 103,
   "metadata": {},
   "outputs": [],
   "source": [
    "labelPos =np.ones(NumDataPerClass) \n",
    "#Return a new array of given shape and type, filled with ones.\n",
    "\n",
    "# example\n",
    "# np.ones(5)\n",
    "# array([1., 1., 1., 1., 1.])\n",
    "labelNeg=-1.0*np.ones(NumDataPerClass) \n",
    "f= np.concatenate((labelPos,labelNeg))"
   ]
  },
  {
   "cell_type": "code",
   "execution_count": 104,
   "metadata": {},
   "outputs": [],
   "source": [
    "O=np.ones((2*NumDataPerClass,1))\n",
    "Y=np.append(Y,O,axis=1)"
   ]
  },
  {
   "cell_type": "code",
   "execution_count": 105,
   "metadata": {},
   "outputs": [
    {
     "name": "stdout",
     "output_type": "stream",
     "text": [
      "(400, 3)\n",
      "[[ 2.10683856  1.8314049   1.        ]\n",
      " [ 2.88284672  1.1970124   1.        ]\n",
      " [ 1.68555594  4.69260599  1.        ]\n",
      " ...\n",
      " [10.8833584   9.99525202  1.        ]\n",
      " [12.58417523 11.2986587   1.        ]\n",
      " [ 7.2539448   9.45833257  1.        ]]\n"
     ]
    }
   ],
   "source": [
    "print(Y.shape)\n",
    "print(Y)"
   ]
  },
  {
   "cell_type": "code",
   "execution_count": 106,
   "metadata": {},
   "outputs": [
    {
     "name": "stdout",
     "output_type": "stream",
     "text": [
      "(200, 3) (200,) (200, 3) (200,)\n"
     ]
    }
   ],
   "source": [
    "rIndex=np.random.permutation(2*NumDataPerClass)\n",
    "\n",
    "#Randomly permute a sequence, or return a permuted range.\n",
    "\n",
    "# example\n",
    "# np.random.permutation(10)\n",
    "# array([1, 7, 4, 3, 0, 9, 2, 5, 8, 6])\n",
    "\n",
    "Yr=Y[rIndex,]#reshuffled dataset\n",
    "fr=f[rIndex]#reshuffled label\n",
    "\n",
    "Y_train=Yr[0:NumDataPerClass]#the data for training set\n",
    "f_train=fr[0:NumDataPerClass]#the label for training set\n",
    "\n",
    "Y_test=Yr[NumDataPerClass:2*NumDataPerClass]#the data for test set\n",
    "f_test=fr[NumDataPerClass:2*NumDataPerClass]#the label for test set\n",
    "print(Y_train.shape, f_train.shape, Y_test.shape, f_test.shape)\n",
    "\n",
    "Ntrain= NumDataPerClass;\n",
    "Ntest= NumDataPerClass;"
   ]
  },
  {
   "cell_type": "code",
   "execution_count": 107,
   "metadata": {},
   "outputs": [],
   "source": [
    "def PercentCorrect(Inputs,targets, weights):\n",
    "    N=len(targets)\n",
    "    nCorrect =0\n",
    "    for n in range(N):\n",
    "        OneInput=Inputs[n,:]\n",
    "        if(targets[n]*np.dot(OneInput, weights)>0):\n",
    "            nCorrect +=1\n",
    "    return 100*nCorrect/N        "
   ]
  },
  {
   "cell_type": "code",
   "execution_count": 108,
   "metadata": {},
   "outputs": [
    {
     "name": "stdout",
     "output_type": "stream",
     "text": [
      "Initial classifier: [ 1.62354207  0.95507871 -0.53176927]\n",
      "Initial Percentage Correct: 48.0\n",
      "Classifier After Training: [-0.04710134 -0.02414161  0.27823073]\n",
      "Percentage Correct After Training: 97.0 93.5\n"
     ]
    }
   ],
   "source": [
    "a=np.random.randn(3)\n",
    "print('Initial classifier:',a)\n",
    "\n",
    "print('Initial Percentage Correct:', PercentCorrect(Y_train, f_train,a))\n",
    "\n",
    "MaxIter=400\n",
    "alpha=0.01\n",
    "\n",
    "P_train=np.zeros(MaxIter)\n",
    "P_test=np.zeros(MaxIter)\n",
    "\n",
    "for iter in range(MaxIter):\n",
    "    r=np.floor(np.random.rand()*Ntrain).astype(int)\n",
    "    y=Y_train[r,:]\n",
    "    \n",
    "    if (f_train[r]*np.dot(y,a)<0):\n",
    "        a +=alpha*f_train[r]*y\n",
    "        \n",
    "    P_train[iter]=PercentCorrect(Y_train, f_train,a);\n",
    "    P_test[iter]=PercentCorrect(Y_test, f_test,a);\n",
    "\n",
    "print('Classifier After Training:',a)\n",
    "print('Percentage Correct After Training:',PercentCorrect(Y_train,f_train,a),PercentCorrect(Y_test,f_test,a))   \n"
   ]
  },
  {
   "cell_type": "code",
   "execution_count": 109,
   "metadata": {},
   "outputs": [
    {
     "data": {
      "text/plain": [
       "<matplotlib.legend.Legend at 0x214ccb03eb8>"
      ]
     },
     "execution_count": 109,
     "metadata": {},
     "output_type": "execute_result"
    },
    {
     "data": {
      "image/png": "[encoded data removed]",
      "text/plain": [
       "<Figure size 432x288 with 1 Axes>"
      ]
     },
     "metadata": {
      "needs_background": "light"
     },
     "output_type": "display_data"
    }
   ],
   "source": [
    "\n",
    "plt.plot(range(MaxIter),P_train,'b',range(MaxIter),P_test,'r')\n",
    "plt.grid(True)\n",
    "plt.gca().legend(('Training set','Test Set'))"
   ]
  },
  {
   "cell_type": "code",
   "execution_count": 110,
   "metadata": {},
   "outputs": [
    {
     "name": "stdout",
     "output_type": "stream",
     "text": [
      "0.985\n"
     ]
    }
   ],
   "source": [
    "from sklearn.linear_model import Perceptron\n",
    "from sklearn.metrics import accuracy_score\n",
    "model=Perceptron()\n",
    "model.fit(Y_train,f_train)\n",
    "fh_test=model.predict(Y_test)\n",
    "print(accuracy_score(fh_test,f_test))\n"
   ]
  },
  {
   "cell_type": "code",
   "execution_count": 114,
   "metadata": {},
   "outputs": [
    {
     "name": "stdout",
     "output_type": "stream",
     "text": [
      "     0    1    2    3            4\n",
      "0  5.1  3.5  1.4  0.2  Iris-setosa\n",
      "1  4.9  3.0  1.4  0.2  Iris-setosa\n",
      "2  4.7  3.2  1.3  0.2  Iris-setosa\n",
      "3  4.6  3.1  1.5  0.2  Iris-setosa\n",
      "4  5.0  3.6  1.4  0.2  Iris-setosa\n"
     ]
    }
   ],
   "source": [
    "#classify iris data using your own perceptron algorithm\n",
    "import pandas as pd\n",
    "iris=pd.read_csv(\"iris.data\",index_col=False,header=None)\n",
    "print(iris.head())"
   ]
  },
  {
   "cell_type": "code",
   "execution_count": 115,
   "metadata": {},
   "outputs": [
    {
     "name": "stdout",
     "output_type": "stream",
     "text": [
      "(100, 5)\n",
      "      0    1    2    3\n",
      "81  5.5  2.4  3.7  1.0\n",
      "59  5.2  2.7  3.9  1.4\n",
      "23  5.1  3.3  1.7  0.5\n",
      "41  4.5  2.3  1.3  0.3\n",
      "79  5.7  2.6  3.5  1.0\n",
      "                  4\n",
      "81  Iris-versicolor\n",
      "59  Iris-versicolor\n",
      "23      Iris-setosa\n",
      "41      Iris-setosa\n",
      "79  Iris-versicolor\n"
     ]
    }
   ],
   "source": [
    "iris=iris[iris.iloc[:, -1] != 'Iris-virginica']# remain only 2 clasees for binary classification\n",
    "iris=iris.sample(frac=1)#Shuffle the dataset https://stackoverflow.com/questions/29576430/shuffle-dataframe-rows\n",
    "print(iris.shape)\n",
    "Y=iris.iloc[:, [0,1,2,3]]\n",
    "f=iris.iloc[:, [4]]\n",
    "print(Y.head())\n",
    "print(f.head())"
   ]
  },
  {
   "cell_type": "code",
   "execution_count": 120,
   "metadata": {},
   "outputs": [],
   "source": [
    "iris_train=iris[:50]\n",
    "iris_test=iris[-50:]"
   ]
  },
  {
   "cell_type": "code",
   "execution_count": 134,
   "metadata": {},
   "outputs": [
    {
     "name": "stdout",
     "output_type": "stream",
     "text": [
      "1.0\n"
     ]
    }
   ],
   "source": [
    "from sklearn.linear_model import Perceptron\n",
    "from sklearn.metrics import accuracy_score\n",
    "model=Perceptron()\n",
    "model.fit(iris_train.iloc[:, [0,1,2,3]],iris_train.iloc[:, [4]].values.ravel())\n",
    "#for the '.values.ravel()' :https://stackoverflow.com/questions/34165731/a-column-vector-y-was-passed-when-a-1d-array-was-expected\n",
    "fh_test=model.predict(iris_test.iloc[:, [0,1,2,3]])\n",
    "print(accuracy_score(fh_test,iris_test.iloc[:, [4]]))\n"
   ]
  },
  {
   "cell_type": "code",
   "execution_count": 136,
   "metadata": {},
   "outputs": [
    {
     "name": "stdout",
     "output_type": "stream",
     "text": [
      "1.0\n"
     ]
    }
   ],
   "source": [
    "# For the snapshot of the lab report\n",
    "#load the data\n",
    "import pandas as pd\n",
    "iris=pd.read_csv(\"iris.data\",index_col=False,header=None)\n",
    "\n",
    "#Filter only 2 classes for classification\n",
    "iris=iris[iris.iloc[:, -1] != 'Iris-virginica']\n",
    "\n",
    "#Shuffle the data\n",
    "iris=iris.sample(frac=1)\n",
    "\n",
    "#Split the train and test set\n",
    "iris_train=iris[:50]\n",
    "iris_test=iris[-50:]\n",
    "\n",
    "#Fit the model with sklearn\n",
    "from sklearn.linear_model import Perceptron\n",
    "from sklearn.metrics import accuracy_score\n",
    "model=Perceptron()\n",
    "model.fit(iris_train.iloc[:, [0,1,2,3]],iris_train.iloc[:, [4]].values.ravel())\n",
    "fh_test=model.predict(iris_test.iloc[:, [0,1,2,3]])\n",
    "print(accuracy_score(fh_test,iris_test.iloc[:, [4]]))"
   ]
  },
  {
   "cell_type": "code",
   "execution_count": null,
   "metadata": {},
   "outputs": [],
   "source": []
  }
 ],
 "metadata": {
  "kernelspec": {
   "display_name": "Python 3",
   "language": "python",
   "name": "python3"
  },
  "language_info": {
   "codemirror_mode": {
    "name": "ipython",
    "version": 3
   },
   "file_extension": ".py",
   "mimetype": "text/x-python",
   "name": "python",
   "nbconvert_exporter": "python",
   "pygments_lexer": "ipython3",
   "version": "3.7.3"
  }
 },
 "nbformat": 4,
 "nbformat_minor": 2
}
